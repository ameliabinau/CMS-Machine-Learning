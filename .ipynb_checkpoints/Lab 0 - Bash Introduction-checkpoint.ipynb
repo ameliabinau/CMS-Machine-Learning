{
 "cells": [
  {
   "cell_type": "code",
   "execution_count": 1,
   "metadata": {
    "tags": []
   },
   "outputs": [
    {
     "name": "stdout",
     "output_type": "stream",
     "text": [
      "/depot/cms/top/he614/BasicTutorials/PHYS324/cms-machinelearning-notebooks\n"
     ]
    }
   ],
   "source": [
    "!pwd"
   ]
  },
  {
   "cell_type": "markdown",
   "metadata": {},
   "source": [
    "# Lab 0 - Bash Introduction\n",
    "\n",
    "What is Bash? Bash is essentially a minimalist programming language used to interact with your computer. With bash you can: move, copy and delete files; download files over the internet; remote log-in to other computers; list files in a directory; and much more!\n",
    "\n",
    "But wait...can't we do all of these things easily with File Explorer (Windows) or browser? Yes, but imagine if you want to delete 500 files. Or copy 1 million files. Or download 150 files from 5 different websites. Doing this by hand would take a very long time. But, instead you can write a bash script to do this for you! Bash was how you interacted with a computer before graphical user interfaces (GUIs) were created.\n",
    "\n",
    "So let's learn some Bash!"
   ]
  },
  {
   "cell_type": "markdown",
   "metadata": {},
   "source": [
    "## 1.0 Bash Magic in Jupyter Notebook\n",
    "You can use Bash within Jupyter by precluding any code cell with a `!`"
   ]
  },
  {
   "cell_type": "code",
   "execution_count": 2,
   "metadata": {},
   "outputs": [
    {
     "name": "stdout",
     "output_type": "stream",
     "text": [
      "hello\n"
     ]
    }
   ],
   "source": [
    "!echo 'hello'"
   ]
  },
  {
   "cell_type": "markdown",
   "metadata": {},
   "source": [
    "`echo` is the command that will print text to the terminal."
   ]
  },
  {
   "cell_type": "markdown",
   "metadata": {},
   "source": [
    "## 2.0 `ls` Command"
   ]
  },
  {
   "cell_type": "code",
   "execution_count": 3,
   "metadata": {},
   "outputs": [
    {
     "name": "stdout",
     "output_type": "stream",
     "text": [
      " images\n",
      "'Lab 0 - Bash Introduction.ipynb'\n",
      "'Lab 1 - Introduction to PyTorch.ipynb'\n",
      "'Lab 2 - Making Machines Learn.ipynb'\n",
      "'Lab 3 - Gradient-Based Learning Methods & Cost Functions.ipynb'\n",
      "'Lab 4 - Neural Networks.ipynb'\n",
      " plot_conf.py\n",
      " README.md\n"
     ]
    }
   ],
   "source": [
    "!ls"
   ]
  },
  {
   "cell_type": "markdown",
   "metadata": {},
   "source": [
    "`ls` will list all of the files in your current directory. We can supply options to different commands via the `-` and `--` identifiers. `-` is used for options that can be specified with a single character. You can combine multiple single character options in a single argument `-xyz`. `--` is used for \"long\" options that also may require an argument: `--start_index 5` would be an example option where we are saying we should start at the index `5`, for example.\n",
    "\n",
    "`ls` has the popular options `-l`, `-h`, `-r`, and `-t`"
   ]
  },
  {
   "cell_type": "code",
   "execution_count": 4,
   "metadata": {},
   "outputs": [
    {
     "name": "stdout",
     "output_type": "stream",
     "text": [
      "total 12M\n",
      "-rw-r-----  1 he614 4360 690K Jan  8 04:17 'Lab 3 - Gradient-Based Learning Methods & Cost Functions.ipynb'\n",
      "-rw-r-----  1 he614 4360 2.8M Jan  8 04:17 'Lab 4 - Neural Networks.ipynb'\n",
      "drwxr-s---+ 2 he614 4360 4.0K Jan  8 04:17  images\n",
      "-rw-r-----  1 he614 4360 1.4K Jan  8 04:17  plot_conf.py\n",
      "-rw-r-----  1 he614 4360 1.4K Jan  8 04:22  README.md\n",
      "-rw-r-----  1 he614 4360 1.8M Jan  8 04:25 'Lab 2 - Making Machines Learn.ipynb'\n",
      "-rw-r-----  1 he614 4360 116K Jan  8 04:26 'Lab 1 - Introduction to PyTorch.ipynb'\n",
      "-rw-r-----  1 he614 4360  31K Jan  8 23:38 'Lab 0 - Bash Introduction.ipynb'\n"
     ]
    }
   ],
   "source": [
    "!ls -lhtr"
   ]
  },
  {
   "cell_type": "markdown",
   "metadata": {},
   "source": [
    "## 3.0 `cd` Command\n",
    "`cd` stands for change directory. This is how we navigate through our company into different folders/directories."
   ]
  },
  {
   "cell_type": "code",
   "execution_count": 4,
   "metadata": {},
   "outputs": [
    {
     "name": "stdout",
     "output_type": "stream",
     "text": [
      "cms-machinelearning-notebooks\n"
     ]
    }
   ],
   "source": [
    "!cd ../; ls"
   ]
  },
  {
   "cell_type": "markdown",
   "metadata": {},
   "source": [
    "`../` tells you to move backwards a directory. `./` or simply `.` is the current directory you are at. The `;` tells me we are finished running that command and want to run a new command after that. So you can see we moved to the parent directory that this Jupyter Notebook resides in and listed the files in that new directory. In an actual terminal, you would now move into this directory. However, in Jupyter you will remain in the directory the Jupyter Notebook resides in, so `cd` is kind of useless while working within Jupyter Notebook."
   ]
  },
  {
   "cell_type": "markdown",
   "metadata": {},
   "source": [
    "## 4.0 `mkdir` Command\n",
    "This command will make a new directory for you."
   ]
  },
  {
   "cell_type": "code",
   "execution_count": 5,
   "metadata": {},
   "outputs": [],
   "source": [
    "!mkdir my_directory"
   ]
  },
  {
   "cell_type": "code",
   "execution_count": 6,
   "metadata": {},
   "outputs": [
    {
     "name": "stdout",
     "output_type": "stream",
     "text": [
      "total 12M\n",
      "-rw-r-----  1 he614 4360 690K Jan  8 04:17 'Lab 3 - Gradient-Based Learning Methods & Cost Functions.ipynb'\n",
      "-rw-r-----  1 he614 4360 2.8M Jan  8 04:17 'Lab 4 - Neural Networks.ipynb'\n",
      "drwxr-s---+ 2 he614 4360 4.0K Jan  8 04:17  images\n",
      "-rw-r-----  1 he614 4360 1.4K Jan  8 04:17  plot_conf.py\n",
      "-rw-r-----  1 he614 4360 1.4K Jan  8 04:22  README.md\n",
      "-rw-r-----  1 he614 4360 1.8M Jan  8 04:25 'Lab 2 - Making Machines Learn.ipynb'\n",
      "-rw-r-----  1 he614 4360 116K Jan  8 04:26 'Lab 1 - Introduction to PyTorch.ipynb'\n",
      "-rw-r-----  1 he614 4360  25K Jan 22 04:29 'Lab 0 - Bash Introduction.ipynb'\n",
      "drwxr-s---+ 2 he614 4360 4.0K Jan 22 04:30  my_directory\n"
     ]
    }
   ],
   "source": [
    "!ls -lhtr"
   ]
  },
  {
   "cell_type": "code",
   "execution_count": 7,
   "metadata": {},
   "outputs": [],
   "source": [
    "!cd my_directory; ls"
   ]
  },
  {
   "cell_type": "markdown",
   "metadata": {},
   "source": [
    "We can see that nothing is inside our new directory, so let's add some files into our new directory!"
   ]
  },
  {
   "cell_type": "markdown",
   "metadata": {},
   "source": [
    "## 5.0 `touch` Command\n",
    "The `touch` command will touch a file and show that it has been modified (without changing any of the files contents, however!) or if no file exists it will create a new file."
   ]
  },
  {
   "cell_type": "code",
   "execution_count": 8,
   "metadata": {},
   "outputs": [],
   "source": [
    "!touch a\n",
    "!touch b\n",
    "!touch c"
   ]
  },
  {
   "cell_type": "code",
   "execution_count": 9,
   "metadata": {},
   "outputs": [
    {
     "name": "stdout",
     "output_type": "stream",
     "text": [
      "total 11M\n",
      "-rw-r-----  1 he614 4360 690K Jan  8 04:17 'Lab 3 - Gradient-Based Learning Methods & Cost Functions.ipynb'\n",
      "-rw-r-----  1 he614 4360 2.8M Jan  8 04:17 'Lab 4 - Neural Networks.ipynb'\n",
      "drwxr-s---+ 2 he614 4360 4.0K Jan  8 04:17  images\n",
      "-rw-r-----  1 he614 4360 1.4K Jan  8 04:17  plot_conf.py\n",
      "-rw-r-----  1 he614 4360 1.4K Jan  8 04:22  README.md\n",
      "-rw-r-----  1 he614 4360 1.8M Jan  8 04:25 'Lab 2 - Making Machines Learn.ipynb'\n",
      "-rw-r-----  1 he614 4360 116K Jan  8 04:26 'Lab 1 - Introduction to PyTorch.ipynb'\n",
      "drwxr-s---+ 2 he614 4360 4.0K Jan 22 04:30  my_directory\n",
      "-rw-r-----  1 he614 4360  22K Jan 22 04:31 'Lab 0 - Bash Introduction.ipynb'\n",
      "-rw-r-----  1 he614 4360    0 Jan 22 04:31  a\n",
      "-rw-r-----  1 he614 4360    0 Jan 22 04:31  b\n",
      "-rw-r-----  1 he614 4360    0 Jan 22 04:31  c\n"
     ]
    }
   ],
   "source": [
    "!ls -lhtr"
   ]
  },
  {
   "cell_type": "code",
   "execution_count": 10,
   "metadata": {},
   "outputs": [],
   "source": [
    "!touch my_directory"
   ]
  },
  {
   "cell_type": "code",
   "execution_count": 98,
   "metadata": {},
   "outputs": [
    {
     "name": "stdout",
     "output_type": "stream",
     "text": [
      "total 36K\n",
      "-rw-rw-r-- 1 aj aj  31K Aug 20 16:02 'Lab 0 - Bash Introduction.ipynb'\n",
      "-rw-rw-r-- 1 aj aj    0 Aug 20 16:02  a\n",
      "-rw-rw-r-- 1 aj aj    0 Aug 20 16:02  b\n",
      "-rw-rw-r-- 1 aj aj    0 Aug 20 16:02  c\n",
      "drwxrwxr-x 2 aj aj 4.0K Aug 20 16:02  my_directory\n"
     ]
    }
   ],
   "source": [
    "!ls -lhtr"
   ]
  },
  {
   "cell_type": "markdown",
   "metadata": {},
   "source": [
    "`touch` is also useful to check permissions. You can try touching files/directories to see if you have the correct permissions to touch them. `/` is the root directory for the entire computer! Lots of things in here we cannot touch..."
   ]
  },
  {
   "cell_type": "code",
   "execution_count": 11,
   "metadata": {},
   "outputs": [
    {
     "name": "stdout",
     "output_type": "stream",
     "text": [
      "bin    depot  eos  home  lib64\t     media  opt   root\tsbin  sys  usr\twork\n",
      "cvmfs  dev    etc  lib\t lost+found  mnt    proc  run\tsrv   tmp  var\n"
     ]
    }
   ],
   "source": [
    "!ls /"
   ]
  },
  {
   "cell_type": "code",
   "execution_count": 12,
   "metadata": {},
   "outputs": [
    {
     "name": "stdout",
     "output_type": "stream",
     "text": [
      "touch: setting times of '/usr': Permission denied\n"
     ]
    }
   ],
   "source": [
    "!touch /usr"
   ]
  },
  {
   "cell_type": "code",
   "execution_count": 14,
   "metadata": {},
   "outputs": [],
   "source": [
    "!touch /home/he614/"
   ]
  },
  {
   "cell_type": "markdown",
   "metadata": {},
   "source": [
    "I can touch my home directory! You'll have to put the name of your own home directory there."
   ]
  },
  {
   "cell_type": "markdown",
   "metadata": {},
   "source": [
    "### Exercise: What is the name of your home directory? Use cd, ls, and touch to try finding your home directory!"
   ]
  },
  {
   "cell_type": "code",
   "execution_count": 102,
   "metadata": {},
   "outputs": [],
   "source": [
    "# Put solution here!\n"
   ]
  },
  {
   "cell_type": "markdown",
   "metadata": {},
   "source": [
    "# 6.0 `cat` Command\n",
    "`cat` can be used to view the contents of a file. `echo 'some text' > file_name` is a way to input the text `some text` into the file `file_name`. The key operand being used here is the `>` operand which tells us to put something into a file."
   ]
  },
  {
   "cell_type": "code",
   "execution_count": 15,
   "metadata": {},
   "outputs": [],
   "source": [
    "!echo \"To be or not to be\" > a"
   ]
  },
  {
   "cell_type": "code",
   "execution_count": 16,
   "metadata": {},
   "outputs": [
    {
     "name": "stdout",
     "output_type": "stream",
     "text": [
      "To be or not to be\n"
     ]
    }
   ],
   "source": [
    "!cat a"
   ]
  },
  {
   "cell_type": "code",
   "execution_count": 17,
   "metadata": {},
   "outputs": [],
   "source": [
    "!cat a > b"
   ]
  },
  {
   "cell_type": "code",
   "execution_count": 18,
   "metadata": {},
   "outputs": [
    {
     "name": "stdout",
     "output_type": "stream",
     "text": [
      "To be or not to be\n"
     ]
    }
   ],
   "source": [
    "!cat b"
   ]
  },
  {
   "cell_type": "markdown",
   "metadata": {},
   "source": [
    "# 7.0 `mv` Command\n",
    "The `mv` command is used to move or rename files. We can rename a file by simply \"moving\" it to a new file. Let's rename some files and move them into our new directory `my_directory`!"
   ]
  },
  {
   "cell_type": "code",
   "execution_count": 19,
   "metadata": {},
   "outputs": [
    {
     "name": "stdout",
     "output_type": "stream",
     "text": [
      "total 11M\n",
      "-rw-r-----  1 he614 4360 690K Jan  8 04:17 'Lab 3 - Gradient-Based Learning Methods & Cost Functions.ipynb'\n",
      "-rw-r-----  1 he614 4360 2.8M Jan  8 04:17 'Lab 4 - Neural Networks.ipynb'\n",
      "drwxr-s---+ 2 he614 4360 4.0K Jan  8 04:17  images\n",
      "-rw-r-----  1 he614 4360 1.4K Jan  8 04:17  plot_conf.py\n",
      "-rw-r-----  1 he614 4360 1.4K Jan  8 04:22  README.md\n",
      "-rw-r-----  1 he614 4360 1.8M Jan  8 04:25 'Lab 2 - Making Machines Learn.ipynb'\n",
      "-rw-r-----  1 he614 4360 116K Jan  8 04:26 'Lab 1 - Introduction to PyTorch.ipynb'\n",
      "-rw-r-----  1 he614 4360  22K Jan 22 04:31 'Lab 0 - Bash Introduction.ipynb'\n",
      "-rw-r-----  1 he614 4360    0 Jan 22 04:31  c\n",
      "drwxr-s---+ 2 he614 4360 4.0K Jan 22 04:31  my_directory\n",
      "-rw-r-----  1 he614 4360   19 Jan 22 04:31  a\n",
      "-rw-r-----  1 he614 4360   19 Jan 22 04:31  b\n"
     ]
    }
   ],
   "source": [
    "!ls -lhtr"
   ]
  },
  {
   "cell_type": "code",
   "execution_count": 20,
   "metadata": {},
   "outputs": [],
   "source": [
    "!mv a 'shakespeare_original.txt'"
   ]
  },
  {
   "cell_type": "code",
   "execution_count": 21,
   "metadata": {},
   "outputs": [],
   "source": [
    "!mv b 'shakespeare_copy.txt'"
   ]
  },
  {
   "cell_type": "code",
   "execution_count": 22,
   "metadata": {},
   "outputs": [
    {
     "name": "stdout",
     "output_type": "stream",
     "text": [
      "total 12M\n",
      "-rw-r-----  1 he614 4360 690K Jan  8 04:17 'Lab 3 - Gradient-Based Learning Methods & Cost Functions.ipynb'\n",
      "-rw-r-----  1 he614 4360 2.8M Jan  8 04:17 'Lab 4 - Neural Networks.ipynb'\n",
      "drwxr-s---+ 2 he614 4360 4.0K Jan  8 04:17  images\n",
      "-rw-r-----  1 he614 4360 1.4K Jan  8 04:17  plot_conf.py\n",
      "-rw-r-----  1 he614 4360 1.4K Jan  8 04:22  README.md\n",
      "-rw-r-----  1 he614 4360 1.8M Jan  8 04:25 'Lab 2 - Making Machines Learn.ipynb'\n",
      "-rw-r-----  1 he614 4360 116K Jan  8 04:26 'Lab 1 - Introduction to PyTorch.ipynb'\n",
      "-rw-r-----  1 he614 4360  22K Jan 22 04:31 'Lab 0 - Bash Introduction.ipynb'\n",
      "-rw-r-----  1 he614 4360    0 Jan 22 04:31  c\n",
      "drwxr-s---+ 2 he614 4360 4.0K Jan 22 04:31  my_directory\n",
      "-rw-r-----  1 he614 4360   19 Jan 22 04:31  shakespeare_original.txt\n",
      "-rw-r-----  1 he614 4360   19 Jan 22 04:31  shakespeare_copy.txt\n"
     ]
    }
   ],
   "source": [
    "!ls -lhtr"
   ]
  },
  {
   "cell_type": "code",
   "execution_count": 23,
   "metadata": {},
   "outputs": [],
   "source": [
    "!mv ./shakespeare_original.txt ./my_directory/shakespeare_original.txt\n",
    "!mv ./shakespeare_copy.txt ./my_directory/shakespeare_copy.txt"
   ]
  },
  {
   "cell_type": "code",
   "execution_count": 24,
   "metadata": {},
   "outputs": [
    {
     "name": "stdout",
     "output_type": "stream",
     "text": [
      "total 2.0K\n",
      "-rw-r----- 1 he614 4360 19 Jan 22 04:31 shakespeare_original.txt\n",
      "-rw-r----- 1 he614 4360 19 Jan 22 04:31 shakespeare_copy.txt\n"
     ]
    }
   ],
   "source": [
    "!cd my_directory/; ls -lhtr"
   ]
  },
  {
   "cell_type": "code",
   "execution_count": 25,
   "metadata": {},
   "outputs": [
    {
     "name": "stdout",
     "output_type": "stream",
     "text": [
      "total 12M\n",
      "-rw-r-----  1 he614 4360 690K Jan  8 04:17 'Lab 3 - Gradient-Based Learning Methods & Cost Functions.ipynb'\n",
      "-rw-r-----  1 he614 4360 2.8M Jan  8 04:17 'Lab 4 - Neural Networks.ipynb'\n",
      "drwxr-s---+ 2 he614 4360 4.0K Jan  8 04:17  images\n",
      "-rw-r-----  1 he614 4360 1.4K Jan  8 04:17  plot_conf.py\n",
      "-rw-r-----  1 he614 4360 1.4K Jan  8 04:22  README.md\n",
      "-rw-r-----  1 he614 4360 1.8M Jan  8 04:25 'Lab 2 - Making Machines Learn.ipynb'\n",
      "-rw-r-----  1 he614 4360 116K Jan  8 04:26 'Lab 1 - Introduction to PyTorch.ipynb'\n",
      "-rw-r-----  1 he614 4360  22K Jan 22 04:31 'Lab 0 - Bash Introduction.ipynb'\n",
      "-rw-r-----  1 he614 4360    0 Jan 22 04:31  c\n",
      "drwxr-s---+ 2 he614 4360 4.0K Jan 22 04:32  my_directory\n"
     ]
    }
   ],
   "source": [
    "!ls -lhtr"
   ]
  },
  {
   "cell_type": "markdown",
   "metadata": {},
   "source": [
    "# 8.0 `cp` Command\n",
    "The `cp` command can be used to copy a file into a new file: `cp filename_to_be_copied new_name_of_file`. The `-r` option can be passed whenever you want to copy a bunch of files. The `*` wildcard can be used if you don't care about that part of the file name. So `*.txt` would select for all files that end in \".txt\". Similarly, `shakespeare*` will grab all files that begin with \"shakespeare\". Lastly, `*apple*` will grab all files that contain the sequence of characters \"apple\"."
   ]
  },
  {
   "cell_type": "code",
   "execution_count": 26,
   "metadata": {},
   "outputs": [],
   "source": [
    "!mv c ./my_directory/"
   ]
  },
  {
   "cell_type": "code",
   "execution_count": 27,
   "metadata": {},
   "outputs": [],
   "source": [
    "!cp ./my_directory/c d"
   ]
  },
  {
   "cell_type": "code",
   "execution_count": 28,
   "metadata": {},
   "outputs": [],
   "source": [
    "!cp -r ./my_directory/shakespeare* ."
   ]
  },
  {
   "cell_type": "code",
   "execution_count": 29,
   "metadata": {},
   "outputs": [
    {
     "name": "stdout",
     "output_type": "stream",
     "text": [
      "total 12M\n",
      "-rw-r-----  1 he614 4360 690K Jan  8 04:17 'Lab 3 - Gradient-Based Learning Methods & Cost Functions.ipynb'\n",
      "-rw-r-----  1 he614 4360 2.8M Jan  8 04:17 'Lab 4 - Neural Networks.ipynb'\n",
      "drwxr-s---+ 2 he614 4360 4.0K Jan  8 04:17  \u001b[0m\u001b[01;34mimages\u001b[0m/\n",
      "-rw-r-----  1 he614 4360 1.4K Jan  8 04:17  plot_conf.py\n",
      "-rw-r-----  1 he614 4360 1.4K Jan  8 04:22  README.md\n",
      "-rw-r-----  1 he614 4360 1.8M Jan  8 04:25 'Lab 2 - Making Machines Learn.ipynb'\n",
      "-rw-r-----  1 he614 4360 116K Jan  8 04:26 'Lab 1 - Introduction to PyTorch.ipynb'\n",
      "-rw-r-----  1 he614 4360  22K Jan 22 04:31 'Lab 0 - Bash Introduction.ipynb'\n",
      "drwxr-s---+ 2 he614 4360 4.0K Jan 22 04:32  \u001b[01;34mmy_directory\u001b[0m/\n",
      "-rw-r-----  1 he614 4360    0 Jan 22 04:32  d\n",
      "-rw-r-----  1 he614 4360   19 Jan 22 04:32  shakespeare_copy.txt\n",
      "-rw-r-----  1 he614 4360   19 Jan 22 04:32  shakespeare_original.txt\n"
     ]
    }
   ],
   "source": [
    "ls -lhtr"
   ]
  },
  {
   "cell_type": "code",
   "execution_count": 30,
   "metadata": {},
   "outputs": [],
   "source": [
    "!cat d"
   ]
  },
  {
   "cell_type": "code",
   "execution_count": 31,
   "metadata": {},
   "outputs": [
    {
     "name": "stdout",
     "output_type": "stream",
     "text": [
      "To be or not to be\n"
     ]
    }
   ],
   "source": [
    "!cat shakespeare_copy.txt"
   ]
  },
  {
   "cell_type": "markdown",
   "metadata": {},
   "source": [
    "# 9.0 `rm` Command\n",
    "The `rm` command can be used to remove files and directories. Whenever removing multiple files or directories you need to supply the `-r` option."
   ]
  },
  {
   "cell_type": "code",
   "execution_count": 32,
   "metadata": {},
   "outputs": [],
   "source": [
    "!rm -r my_directory/"
   ]
  },
  {
   "cell_type": "code",
   "execution_count": 33,
   "metadata": {},
   "outputs": [],
   "source": [
    "!rm shakespeare_copy.txt"
   ]
  },
  {
   "cell_type": "code",
   "execution_count": 34,
   "metadata": {},
   "outputs": [
    {
     "name": "stdout",
     "output_type": "stream",
     "text": [
      "total 12M\n",
      "-rw-r-----  1 he614 4360 690K Jan  8 04:17 'Lab 3 - Gradient-Based Learning Methods & Cost Functions.ipynb'\n",
      "-rw-r-----  1 he614 4360 2.8M Jan  8 04:17 'Lab 4 - Neural Networks.ipynb'\n",
      "drwxr-s---+ 2 he614 4360 4.0K Jan  8 04:17  images\n",
      "-rw-r-----  1 he614 4360 1.4K Jan  8 04:17  plot_conf.py\n",
      "-rw-r-----  1 he614 4360 1.4K Jan  8 04:22  README.md\n",
      "-rw-r-----  1 he614 4360 1.8M Jan  8 04:25 'Lab 2 - Making Machines Learn.ipynb'\n",
      "-rw-r-----  1 he614 4360 116K Jan  8 04:26 'Lab 1 - Introduction to PyTorch.ipynb'\n",
      "-rw-r-----  1 he614 4360  22K Jan 22 04:31 'Lab 0 - Bash Introduction.ipynb'\n",
      "-rw-r-----  1 he614 4360    0 Jan 22 04:32  d\n",
      "-rw-r-----  1 he614 4360   19 Jan 22 04:32  shakespeare_original.txt\n"
     ]
    }
   ],
   "source": [
    "!ls -lhtr"
   ]
  },
  {
   "cell_type": "markdown",
   "metadata": {},
   "source": [
    "# 10.0 `ssh` and `scp` Command\n",
    "The `ssh` command is used to remotely connect to a computer. We will be leveraging a supercomputer here at Purdue for this research. However, to use this supercomputer we will need to remotely log into it via `ssh`. This is not possible within Jupyter Notebook, however I will still list the relevant commands.\n",
    "\n",
    "To log into Scholar, you will need to use your BoilerKey 2-factor authentication process. So please make sure you have that readily available. If you are using Windows 10 and have the April 2018 update installed you will be able to use the `ssh` command using the installed PowerShell program. If you have a Mac/Linux/Ubuntu machine you can just open a terminal and use the `ssh` command."
   ]
  },
  {
   "cell_type": "code",
   "execution_count": 37,
   "metadata": {
    "scrolled": true
   },
   "outputs": [
    {
     "name": "stdout",
     "output_type": "stream",
     "text": [
      "\n",
      "************************************************************\n",
      "\n",
      "***** Use of Purdue BoilerKey or SSH keys is Required ******\n",
      "\n",
      "************************************************************\n",
      "\n",
      "Password: \n"
     ]
    }
   ],
   "source": [
    "!ssh he614@scholar.rcac.purdue.edu"
   ]
  },
  {
   "cell_type": "markdown",
   "metadata": {},
   "source": [
    "You will need to replace `he614` with your own Purdue username. Once you have successfully logged into your session on Scholar try using the aforementioned commands to play around and become familiar with your home directory on Scholar.\n",
    "\n",
    "If you have a local computer with bash you can transfer files from Scholar via the command:"
   ]
  },
  {
   "cell_type": "code",
   "execution_count": 123,
   "metadata": {},
   "outputs": [
    {
     "name": "stdout",
     "output_type": "stream",
     "text": [
      "\n",
      "************************************************************\n",
      "\n",
      "***** Use of Purdue BoilerKey or SSH keys is Required ******\n",
      "\n",
      "************************************************************\n",
      "\n",
      "Password: \n"
     ]
    }
   ],
   "source": [
    "!scp he614@scholar.rcac.purdue.edu:~/path/to/file/filename.extension /location/to/store/file/locally/"
   ]
  },
  {
   "cell_type": "markdown",
   "metadata": {},
   "source": [
    "`~/` is a shortcut for the home directory. This points to `/home/username/` for most cases."
   ]
  },
  {
   "cell_type": "code",
   "execution_count": 124,
   "metadata": {},
   "outputs": [
    {
     "name": "stdout",
     "output_type": "stream",
     "text": [
      "/home/aj\n"
     ]
    }
   ],
   "source": [
    "!cd ~/; pwd"
   ]
  },
  {
   "cell_type": "markdown",
   "metadata": {},
   "source": [
    "`pwd` prints where you currently are."
   ]
  },
  {
   "cell_type": "code",
   "execution_count": 125,
   "metadata": {},
   "outputs": [
    {
     "name": "stdout",
     "output_type": "stream",
     "text": [
      "total 36K\n",
      "-rw-rw-r-- 1 aj aj   0 Aug 20 16:02  d\n",
      "-rw-rw-r-- 1 aj aj  19 Aug 20 16:03  shakespeare_original.txt\n",
      "-rw-rw-r-- 1 aj aj 32K Aug 20 16:08 'Lab 0 - Bash Introduction.ipynb'\n"
     ]
    }
   ],
   "source": [
    "!ls -lhtr"
   ]
  },
  {
   "cell_type": "code",
   "execution_count": 126,
   "metadata": {},
   "outputs": [],
   "source": [
    "!mkdir test_dir"
   ]
  },
  {
   "cell_type": "code",
   "execution_count": null,
   "metadata": {},
   "outputs": [],
   "source": [
    "!cd test_dir; pwd"
   ]
  },
  {
   "cell_type": "code",
   "execution_count": null,
   "metadata": {},
   "outputs": [],
   "source": [
    "!pwd"
   ]
  },
  {
   "cell_type": "markdown",
   "metadata": {},
   "source": [
    "# Now you are a master in Bash!"
   ]
  }
 ],
 "metadata": {
  "kernelspec": {
   "display_name": "Python [conda env:Coffea-he614]",
   "language": "python",
   "name": "conda-env-Coffea-he614-py"
  },
  "language_info": {
   "codemirror_mode": {
    "name": "ipython",
    "version": 3
   },
   "file_extension": ".py",
   "mimetype": "text/x-python",
   "name": "python",
   "nbconvert_exporter": "python",
   "pygments_lexer": "ipython3",
   "version": "3.10.12"
  }
 },
 "nbformat": 4,
 "nbformat_minor": 4
}
