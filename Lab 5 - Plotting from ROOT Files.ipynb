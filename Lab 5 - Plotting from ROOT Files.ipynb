{
 "cells": [
  {
   "cell_type": "markdown",
   "id": "b47ab36d",
   "metadata": {},
   "source": [
    "### A quick demo on what to start with:\n",
    "\n",
    "You start with a new cluster and you need some python libraries to start the project.\n",
    "So you pip install the tools. If you ever need them again, just uncomment the commands out and carry these to your next jupyter notebook. "
   ]
  },
  {
   "cell_type": "code",
   "execution_count": 2,
   "id": "046ce473",
   "metadata": {},
   "outputs": [],
   "source": [
    "#!pip3 install hist"
   ]
  },
  {
   "cell_type": "code",
   "execution_count": 3,
   "id": "2577938f",
   "metadata": {},
   "outputs": [],
   "source": [
    "#!pip3 install mplhep"
   ]
  },
  {
   "cell_type": "code",
   "execution_count": 4,
   "id": "530bf2ea",
   "metadata": {},
   "outputs": [],
   "source": [
    "#!pip3 install uproot"
   ]
  },
  {
   "cell_type": "code",
   "execution_count": 5,
   "id": "9a336ca4",
   "metadata": {},
   "outputs": [],
   "source": [
    "#!pip3 install vector"
   ]
  },
  {
   "cell_type": "code",
   "execution_count": 2,
   "id": "07278df4",
   "metadata": {},
   "outputs": [],
   "source": [
    "import hist\n",
    "import uproot\n",
    "import vector\n",
    "from math import pi\n",
    "import numpy as np\n",
    "import awkward as ak\n",
    "import mplhep as hep\n",
    "from scipy.optimize import curve_fit\n",
    "import matplotlib.pyplot as plt"
   ]
  },
  {
   "cell_type": "markdown",
   "id": "4af68115",
   "metadata": {},
   "source": [
    "### Here's a nominal histogram .root file:\n",
    "\n",
    "Nominal means there's no uncertainty correction applied to the \"data\". \n",
    "You open it with uproot and view the objects wtih .keys() module.  \n",
    "\n",
    "For a general and powerful uproot reference, check: https://uproot.readthedocs.io/en/latest/basic.html"
   ]
  },
  {
   "cell_type": "code",
   "execution_count": 7,
   "id": "7c5076f6",
   "metadata": {},
   "outputs": [],
   "source": [
    "histogram_nominal = uproot.open('/home/he614/phys323/histogram_nominal.root')"
   ]
  },
  {
   "cell_type": "code",
   "execution_count": 3,
   "id": "cc79b77b",
   "metadata": {},
   "outputs": [],
   "source": [
    "minitree = uproot.open('/home/he614/phys323/minitree_200.root')"
   ]
  },
  {
   "cell_type": "code",
   "execution_count": 4,
   "id": "4295fd07",
   "metadata": {
    "scrolled": true
   },
   "outputs": [
    {
     "data": {
      "text/plain": [
       "['hist_0;1', 'Step0;1', 'hist;1', 'Step7;1', 'Step8;1']"
      ]
     },
     "execution_count": 4,
     "metadata": {},
     "output_type": "execute_result"
    }
   ],
   "source": [
    "minitree.keys()"
   ]
  },
  {
   "cell_type": "markdown",
   "id": "c69838ef",
   "metadata": {},
   "source": [
    "### Structure of this Data\n",
    "\n",
    "Step0/Step7 are trees. \n",
    "\n",
    "Step0 is parton level information classified as ttbar decay into lepton and neutrino pairs. \n",
    "Step7 contains both reconstructed kinematic observables at the detector level after event selection and the corresponding parton level kinematics after event selection. \n",
    "\n",
    "To view the branch names, do the following:"
   ]
  },
  {
   "cell_type": "code",
   "execution_count": 10,
   "id": "8ae43af2",
   "metadata": {},
   "outputs": [
    {
     "data": {
      "text/plain": [
       "['HT',\n",
       " 'ST',\n",
       " 'MET',\n",
       " 'HT_check',\n",
       " 'MET_phi',\n",
       " 'l_pt',\n",
       " 'l_eta',\n",
       " 'l_phi',\n",
       " 'l_mass',\n",
       " 'sl_pt',\n",
       " 'sl_eta',\n",
       " 'sl_phi',\n",
       " 'sl_mass',\n",
       " 'e_pt',\n",
       " 'e_eta',\n",
       " 'e_phi',\n",
       " 'e_charge',\n",
       " 'mu_pt',\n",
       " 'mu_eta',\n",
       " 'mu_phi',\n",
       " 'mu_charge',\n",
       " 'lep_pt',\n",
       " 'lep_eta',\n",
       " 'lep_phi',\n",
       " 'lep_mass',\n",
       " 'lep_pdgid',\n",
       " 'alep_pt',\n",
       " 'alep_eta',\n",
       " 'alep_phi',\n",
       " 'alep_mass',\n",
       " 'alep_pdgid',\n",
       " 'ljet_pt',\n",
       " 'ljet_eta',\n",
       " 'ljet_phi',\n",
       " 'ljet_mass',\n",
       " 'sljet_pt',\n",
       " 'sljet_eta',\n",
       " 'sljet_phi',\n",
       " 'sljet_mass',\n",
       " 'llbar_deta',\n",
       " 'llbar_dphi',\n",
       " 'bbbar_deta',\n",
       " 'bbbar_dphi',\n",
       " 'weight_size',\n",
       " 'nweight',\n",
       " 'weight',\n",
       " 'jet_size',\n",
       " 'njet_btag',\n",
       " 'jet_btag',\n",
       " 'njet_pt',\n",
       " 'jet_pt',\n",
       " 'njet_eta',\n",
       " 'jet_eta',\n",
       " 'njet_phi',\n",
       " 'jet_phi',\n",
       " 'njet_mass',\n",
       " 'jet_mass',\n",
       " 'genpart_size',\n",
       " 'ngenpart_pid',\n",
       " 'genpart_pid',\n",
       " 'ngenpart_status',\n",
       " 'genpart_status',\n",
       " 'ngenpart_pt',\n",
       " 'genpart_pt',\n",
       " 'ngenpart_eta',\n",
       " 'genpart_eta',\n",
       " 'ngenpart_phi',\n",
       " 'genpart_phi',\n",
       " 'ngenpart_mass',\n",
       " 'genpart_mass',\n",
       " 'gen_top_pt',\n",
       " 'gen_top_eta',\n",
       " 'gen_top_phi',\n",
       " 'gen_top_mass',\n",
       " 'gen_top_status',\n",
       " 'gen_atop_pt',\n",
       " 'gen_atop_eta',\n",
       " 'gen_atop_phi',\n",
       " 'gen_atop_mass',\n",
       " 'gen_atop_status',\n",
       " 'gen_b_pt',\n",
       " 'gen_b_eta',\n",
       " 'gen_b_phi',\n",
       " 'gen_b_mass',\n",
       " 'gen_b_status',\n",
       " 'gen_ab_pt',\n",
       " 'gen_ab_eta',\n",
       " 'gen_ab_phi',\n",
       " 'gen_ab_mass',\n",
       " 'gen_ab_status',\n",
       " 'gen_lep_pt',\n",
       " 'gen_lep_eta',\n",
       " 'gen_lep_phi',\n",
       " 'gen_lep_mass',\n",
       " 'gen_lep_pdgid',\n",
       " 'gen_lep_status',\n",
       " 'gen_alep_pt',\n",
       " 'gen_alep_eta',\n",
       " 'gen_alep_phi',\n",
       " 'gen_alep_mass',\n",
       " 'gen_alep_pdgid',\n",
       " 'gen_alep_status',\n",
       " 'gen_neu_pt',\n",
       " 'gen_neu_eta',\n",
       " 'gen_neu_phi',\n",
       " 'gen_neu_pdgid',\n",
       " 'gen_neu_status',\n",
       " 'gen_aneu_pt',\n",
       " 'gen_aneu_eta',\n",
       " 'gen_aneu_phi',\n",
       " 'gen_aneu_pdgid',\n",
       " 'gen_aneu_status',\n",
       " 'gen_met_pt',\n",
       " 'gen_met_phi']"
      ]
     },
     "execution_count": 10,
     "metadata": {},
     "output_type": "execute_result"
    }
   ],
   "source": [
    "minitree['Step7'].keys()"
   ]
  },
  {
   "cell_type": "code",
   "execution_count": 5,
   "id": "7ff0eef0",
   "metadata": {},
   "outputs": [
    {
     "data": {
      "text/plain": [
       "['lep_pt',\n",
       " 'lep_eta',\n",
       " 'lep_phi',\n",
       " 'lep_mass',\n",
       " 'lep_pdgid',\n",
       " 'alep_pt',\n",
       " 'alep_eta',\n",
       " 'alep_phi',\n",
       " 'alep_mass',\n",
       " 'alep_pdgid',\n",
       " 'b_pt',\n",
       " 'b_eta',\n",
       " 'b_phi',\n",
       " 'b_mass',\n",
       " 'ab_pt',\n",
       " 'ab_eta',\n",
       " 'ab_phi',\n",
       " 'ab_mass',\n",
       " 'neu_pt',\n",
       " 'neu_eta',\n",
       " 'neu_phi',\n",
       " 'aneu_pt',\n",
       " 'aneu_eta',\n",
       " 'aneu_phi',\n",
       " 'top_pt',\n",
       " 'top_eta',\n",
       " 'top_phi',\n",
       " 'top_mass',\n",
       " 'top_rap',\n",
       " 'atop_pt',\n",
       " 'atop_eta',\n",
       " 'atop_phi',\n",
       " 'atop_mass',\n",
       " 'atop_rap',\n",
       " 'tt_mass',\n",
       " 'tt_pt',\n",
       " 'tt_eta',\n",
       " 'tt_phi',\n",
       " 'tt_rap',\n",
       " 'met_pt',\n",
       " 'met_phi',\n",
       " 'weight_size',\n",
       " 'weight',\n",
       " 'gen_tt_mass',\n",
       " 'gen_tt_pt',\n",
       " 'gen_tt_eta',\n",
       " 'gen_tt_phi',\n",
       " 'gen_tt_rap',\n",
       " 'gen_top_pt',\n",
       " 'gen_top_eta',\n",
       " 'gen_top_phi',\n",
       " 'gen_top_mass',\n",
       " 'gen_top_rap',\n",
       " 'gen_atop_pt',\n",
       " 'gen_atop_eta',\n",
       " 'gen_atop_phi',\n",
       " 'gen_atop_mass',\n",
       " 'gen_atop_rap',\n",
       " 'gen_b_pt',\n",
       " 'gen_b_eta',\n",
       " 'gen_b_phi',\n",
       " 'gen_b_mass',\n",
       " 'gen_ab_pt',\n",
       " 'gen_ab_eta',\n",
       " 'gen_ab_phi',\n",
       " 'gen_ab_mass',\n",
       " 'gen_lep_pt',\n",
       " 'gen_lep_eta',\n",
       " 'gen_lep_phi',\n",
       " 'gen_lep_mass',\n",
       " 'gen_lep_pdgid',\n",
       " 'gen_alep_pt',\n",
       " 'gen_alep_eta',\n",
       " 'gen_alep_phi',\n",
       " 'gen_alep_mass',\n",
       " 'gen_alep_pdgid',\n",
       " 'gen_neu_pt',\n",
       " 'gen_neu_eta',\n",
       " 'gen_neu_phi',\n",
       " 'gen_neu_pdgid',\n",
       " 'gen_aneu_pt',\n",
       " 'gen_aneu_eta',\n",
       " 'gen_aneu_phi',\n",
       " 'gen_aneu_pdgid',\n",
       " 'gen_met_pt',\n",
       " 'gen_met_phi']"
      ]
     },
     "execution_count": 5,
     "metadata": {},
     "output_type": "execute_result"
    }
   ],
   "source": [
    "minitree['Step8'].keys()"
   ]
  },
  {
   "cell_type": "markdown",
   "id": "4b9a00c4",
   "metadata": {},
   "source": [
    "### Here's a way to filter the items you want and put them in an array of strings"
   ]
  },
  {
   "cell_type": "code",
   "execution_count": 12,
   "id": "cf37ad7c",
   "metadata": {},
   "outputs": [],
   "source": [
    "lep_branches = minitree['Step7'].keys(filter_name=\"*lep*\")"
   ]
  },
  {
   "cell_type": "code",
   "execution_count": 13,
   "id": "72be6242",
   "metadata": {},
   "outputs": [
    {
     "data": {
      "text/plain": [
       "['lep_pt',\n",
       " 'lep_eta',\n",
       " 'lep_phi',\n",
       " 'lep_mass',\n",
       " 'lep_pdgid',\n",
       " 'alep_pt',\n",
       " 'alep_eta',\n",
       " 'alep_phi',\n",
       " 'alep_mass',\n",
       " 'alep_pdgid',\n",
       " 'gen_lep_pt',\n",
       " 'gen_lep_eta',\n",
       " 'gen_lep_phi',\n",
       " 'gen_lep_mass',\n",
       " 'gen_lep_pdgid',\n",
       " 'gen_lep_status',\n",
       " 'gen_alep_pt',\n",
       " 'gen_alep_eta',\n",
       " 'gen_alep_phi',\n",
       " 'gen_alep_mass',\n",
       " 'gen_alep_pdgid',\n",
       " 'gen_alep_status']"
      ]
     },
     "execution_count": 13,
     "metadata": {},
     "output_type": "execute_result"
    }
   ],
   "source": [
    "lep_branches"
   ]
  },
  {
   "cell_type": "code",
   "execution_count": 14,
   "id": "d087782d",
   "metadata": {},
   "outputs": [],
   "source": [
    "#histogram_nominal.keys()"
   ]
  },
  {
   "cell_type": "markdown",
   "id": "23734380",
   "metadata": {},
   "source": [
    "### We can also define dictionaries from the tree"
   ]
  },
  {
   "cell_type": "code",
   "execution_count": 6,
   "id": "198a5c00",
   "metadata": {},
   "outputs": [],
   "source": [
    "minitree = uproot.open('/home/he614/phys323/minitree_200.root')\n",
    "step8tree = minitree['Step8']"
   ]
  },
  {
   "cell_type": "code",
   "execution_count": 7,
   "id": "48e4504d",
   "metadata": {},
   "outputs": [],
   "source": [
    "tree_vars = [\n",
    "    'lep_pt', 'lep_eta', 'lep_phi', 'lep_mass',\n",
    "    'alep_pt', 'alep_eta', 'alep_phi', 'alep_mass',\n",
    "    'top_pt', 'top_eta', 'top_phi', 'top_mass', \n",
    "    'tt_pt', 'tt_eta', 'tt_phi', 'tt_mass',\n",
    "    'gen_lep_pt', 'gen_lep_eta', 'gen_lep_phi', 'gen_lep_mass',\n",
    "    'gen_alep_pt', 'gen_alep_eta', 'gen_alep_phi', 'gen_alep_mass',\n",
    "    'gen_top_pt', 'gen_top_eta', 'gen_top_phi', 'gen_top_mass', \n",
    "    'gen_atop_pt', 'gen_atop_eta', 'gen_atop_phi', 'gen_atop_mass',\n",
    "    'gen_tt_pt', 'gen_tt_eta', 'gen_tt_phi', 'gen_tt_mass',\n",
    "    'atop_pt', 'atop_eta', 'atop_phi', 'atop_mass', 'b_pt', 'gen_b_pt',\n",
    "    'weight_size', 'weight'\n",
    "]\n",
    "\n",
    "step8 = dict( (tree_var, step8tree[tree_var].array()) for tree_var in tree_vars ) \n",
    "\n",
    "# Top and Lepton 4-Vectors\n",
    "top = vector.zip({'pt': step8[\"top_pt\"], 'phi': step8[\"top_phi\"], 'eta': step8[\"top_eta\"], 'M': step8[\"top_mass\"]})\n",
    "tbar = vector.zip({'pt': step8[\"atop_pt\"], 'phi': step8[\"atop_phi\"], 'eta': step8[\"atop_eta\"], 'M': step8[\"atop_mass\"]})\n",
    "l = vector.zip({'pt': step8[\"lep_pt\"], 'phi': step8[\"lep_phi\"], 'eta': step8[\"lep_eta\"], 'M': step8[\"lep_mass\"]})\n",
    "lbar = vector.zip({'pt': step8[\"alep_pt\"], 'phi': step8[\"alep_phi\"], 'eta': step8[\"alep_eta\"], 'M': step8[\"alep_mass\"]})\n",
    "tt = vector.zip({'pt': step8[\"tt_pt\"], 'phi': step8[\"tt_phi\"], 'eta': step8[\"tt_eta\"], 'M': step8[\"tt_mass\"]})\n",
    "gen_tt = vector.zip({'pt': step8[\"gen_tt_pt\"], 'phi': step8[\"gen_tt_phi\"], 'eta': step8[\"gen_tt_eta\"], 'M': step8[\"gen_tt_mass\"]})"
   ]
  },
  {
   "cell_type": "markdown",
   "id": "762142d5",
   "metadata": {},
   "source": [
    "Then we can call the objects from the 4-vector dictionaries. ex."
   ]
  },
  {
   "cell_type": "code",
   "execution_count": 11,
   "id": "facdff3c",
   "metadata": {},
   "outputs": [
    {
     "data": {
      "text/html": [
       "<pre>[-1.28,\n",
       " -1.51,\n",
       " -1.09,\n",
       " -3.07,\n",
       " -0.934,\n",
       " -0.248,\n",
       " -0.687,\n",
       " 1.39,\n",
       " 2.09,\n",
       " 1.76,\n",
       " ...,\n",
       " -1.04,\n",
       " 0.847,\n",
       " -0.129,\n",
       " -2.92,\n",
       " 1,\n",
       " 2.96,\n",
       " -1.41,\n",
       " -2.61,\n",
       " -3.26]\n",
       "-------------------\n",
       "type: 984 * float32</pre>"
      ],
      "text/plain": [
       "<Array [-1.28, -1.51, -1.09, ..., -1.41, -2.61, -3.26] type='984 * float32'>"
      ]
     },
     "execution_count": 11,
     "metadata": {},
     "output_type": "execute_result"
    }
   ],
   "source": [
    "top.eta"
   ]
  },
  {
   "cell_type": "markdown",
   "id": "31d04096",
   "metadata": {},
   "source": [
    "Put the values in a histogram to see the top transverse momentum distribution:"
   ]
  },
  {
   "cell_type": "code",
   "execution_count": 18,
   "id": "25b22da2",
   "metadata": {},
   "outputs": [
    {
     "data": {
      "text/plain": [
       "Text(0.5, 0, 'Reconstructed Top Quark $p_T$ (GeV)')"
      ]
     },
     "execution_count": 18,
     "metadata": {},
     "output_type": "execute_result"
    },
    {
     "data": {
      "image/png": "[encoded data removed]",
      "text/plain": [
       "<Figure size 720x576 with 1 Axes>"
      ]
     },
     "metadata": {
      "needs_background": "light"
     },
     "output_type": "display_data"
    }
   ],
   "source": [
    "fig, ax = plt.subplots(figsize=(10, 8))\n",
    "\n",
    "h_top_pt = hist.Hist(hist.axis.Regular(120, 0, 1200, overflow=False, underflow=False, name=\"Reconstructed Top Quark $p_T$\"), storage=hist.storage.Weight())\n",
    "h_top_pt.fill(top.pt);\n",
    "hep.histplot(h_top_pt);\n",
    "plt.title(\"Example: Top Quark $p_T$ in Lab Frame\")\n",
    "plt.yticks(np.linspace(0,70, 8), fontsize=15)\n",
    "plt.xticks(np.linspace(0, 1200, 7), fontsize=15)\n",
    "plt.xlabel('Reconstructed Top Quark $p_T$ (GeV)', fontsize=15)"
   ]
  },
  {
   "cell_type": "code",
   "execution_count": 18,
   "id": "9332b81f",
   "metadata": {},
   "outputs": [
    {
     "data": {
      "text/plain": [
       "Text(0.5, 0, 'Reconstructed Top Quark $\\\\eta$')"
      ]
     },
     "execution_count": 18,
     "metadata": {},
     "output_type": "execute_result"
    },
    {
     "data": {
      "image/png": "[encoded data removed]",
      "text/plain": [
       "<Figure size 720x576 with 1 Axes>"
      ]
     },
     "metadata": {
      "needs_background": "light"
     },
     "output_type": "display_data"
    }
   ],
   "source": [
    "fig, ax = plt.subplots(figsize=(10, 8))\n",
    "\n",
    "h_top_eta = hist.Hist(hist.axis.Regular(12, -2.5, 2.5, overflow=False, underflow=False, name=\"Reconstructed Top Quark $\\eta$\"), storage=hist.storage.Weight())\n",
    "h_top_eta.fill(top.eta);\n",
    "hep.histplot(h_top_eta);\n",
    "plt.title(\"Example: Top Quark $\\eta$ in Lab Frame\")\n",
    "#plt.yticks(np.linspace(0,70, 8), fontsize=15)\n",
    "#plt.xticks(np.linspace(0, 1200, 7), fontsize=15)\n",
    "plt.xlabel('Reconstructed Top Quark $\\eta$', fontsize=15)"
   ]
  },
  {
   "cell_type": "code",
   "execution_count": 17,
   "id": "4c3975f6",
   "metadata": {},
   "outputs": [
    {
     "data": {
      "text/plain": [
       "Text(0.5, 0, 'Reconstructed Top Quark Mass (GeV)')"
      ]
     },
     "execution_count": 17,
     "metadata": {},
     "output_type": "execute_result"
    },
    {
     "data": {
      "image/png": "[encoded data removed]",
      "text/plain": [
       "<Figure size 720x576 with 1 Axes>"
      ]
     },
     "metadata": {
      "needs_background": "light"
     },
     "output_type": "display_data"
    }
   ],
   "source": [
    "fig, ax = plt.subplots(figsize=(10, 8))\n",
    "\n",
    "h_top_mass = hist.Hist(hist.axis.Regular(30, 0, 300, overflow=False, underflow=False, name=\"Reconstructed Top Quark $p_T$\"), storage=hist.storage.Weight())\n",
    "h_top_mass.fill(top.M);\n",
    "hep.histplot(h_top_mass);\n",
    "plt.title(\"Example: Top Quark Mass in Lab Frame\")\n",
    "plt.xlabel('Reconstructed Top Quark Mass (GeV)', fontsize=15)"
   ]
  },
  {
   "cell_type": "markdown",
   "id": "06d6c375",
   "metadata": {},
   "source": [
    "### We can define histogram object from the existing .root file\n",
    "\n",
    "\n"
   ]
  },
  {
   "cell_type": "code",
   "execution_count": 20,
   "id": "258254fb",
   "metadata": {},
   "outputs": [],
   "source": [
    "h_ttbar_mass = histogram_nominal['Reco_ttbar_mass;1']"
   ]
  },
  {
   "cell_type": "markdown",
   "id": "873db589",
   "metadata": {},
   "source": [
    "You can check the type by using"
   ]
  },
  {
   "cell_type": "code",
   "execution_count": 31,
   "id": "d6c96809",
   "metadata": {},
   "outputs": [],
   "source": [
    "h_at_phi = histogram_nominal['hgen_tbar_phi;1']"
   ]
  },
  {
   "cell_type": "code",
   "execution_count": 41,
   "id": "a7d1ee40",
   "metadata": {},
   "outputs": [
    {
     "data": {
      "text/plain": [
       "[StairsArtists(stairs=<matplotlib.patches.StepPatch object at 0x7f0504b5b8b0>, errorbar=<ErrorbarContainer object of 3 artists>, legend_artist=<ErrorbarContainer object of 3 artists>)]"
      ]
     },
     "execution_count": 41,
     "metadata": {},
     "output_type": "execute_result"
    },
    {
     "data": {
      "image/png": "[encoded data removed]",
      "text/plain": [
       "<Figure size 432x288 with 1 Axes>"
      ]
     },
     "metadata": {
      "needs_background": "light"
     },
     "output_type": "display_data"
    }
   ],
   "source": [
    "h_at_phi.to_hist().plot1d()"
   ]
  },
  {
   "cell_type": "code",
   "execution_count": 21,
   "id": "e1189dd5",
   "metadata": {
    "scrolled": true
   },
   "outputs": [
    {
     "data": {
      "text/plain": [
       "uproot.models.TH.Model_TH1D_v3"
      ]
     },
     "execution_count": 21,
     "metadata": {},
     "output_type": "execute_result"
    }
   ],
   "source": [
    "type(h_ttbar_mass)"
   ]
  },
  {
   "cell_type": "markdown",
   "id": "a5cb12d2",
   "metadata": {},
   "source": [
    "You can use the hist module to view the properties or convert into a different format"
   ]
  },
  {
   "cell_type": "code",
   "execution_count": 22,
   "id": "98d9f7ba",
   "metadata": {},
   "outputs": [
    {
     "data": {
      "text/plain": [
       "array([ 300.  ,  318.75,  337.5 ,  356.25,  375.  ,  393.75,  412.5 ,\n",
       "        431.25,  450.  ,  468.75,  487.5 ,  506.25,  525.  ,  543.75,\n",
       "        562.5 ,  581.25,  600.  ,  625.  ,  650.  ,  675.  ,  700.  ,\n",
       "        725.  ,  750.  ,  775.  ,  800.  ,  950.  , 1100.  , 1250.  ,\n",
       "       1400.  , 1550.  , 1700.  , 1850.  , 2000.  ])"
      ]
     },
     "execution_count": 22,
     "metadata": {},
     "output_type": "execute_result"
    }
   ],
   "source": [
    "h_ttbar_mass.axes[0].edges()"
   ]
  },
  {
   "cell_type": "code",
   "execution_count": 23,
   "id": "d4018819",
   "metadata": {},
   "outputs": [
    {
     "data": {
      "text/plain": [
       "array([     0.,      0.,  43426., 120678., 123938., 111243.,  97155.,\n",
       "        84068.,  73419.,  64829.,  57193.,  51291.,  45921.,  41723.,\n",
       "        38607.,  34765.,  40367.,  34708.,  30191.,  26803.,  23190.,\n",
       "        20368.,  18222.,  15935.,  66250.,  34209.,  18140.,  10298.,\n",
       "         6020.,   3700.,   2343.,   5266.])"
      ]
     },
     "execution_count": 23,
     "metadata": {},
     "output_type": "execute_result"
    }
   ],
   "source": [
    "h_ttbar_mass.values()"
   ]
  },
  {
   "cell_type": "code",
   "execution_count": 24,
   "id": "ae0ab10b",
   "metadata": {},
   "outputs": [
    {
     "data": {
      "text/plain": [
       "(array([     0.,      0.,  43426., 120678., 123938., 111243.,  97155.,\n",
       "         84068.,  73419.,  64829.,  57193.,  51291.,  45921.,  41723.,\n",
       "         38607.,  34765.,  40367.,  34708.,  30191.,  26803.,  23190.,\n",
       "         20368.,  18222.,  15935.,  66250.,  34209.,  18140.,  10298.,\n",
       "          6020.,   3700.,   2343.,   5266.]),\n",
       " array([ 300.  ,  318.75,  337.5 ,  356.25,  375.  ,  393.75,  412.5 ,\n",
       "         431.25,  450.  ,  468.75,  487.5 ,  506.25,  525.  ,  543.75,\n",
       "         562.5 ,  581.25,  600.  ,  625.  ,  650.  ,  675.  ,  700.  ,\n",
       "         725.  ,  750.  ,  775.  ,  800.  ,  950.  , 1100.  , 1250.  ,\n",
       "        1400.  , 1550.  , 1700.  , 1850.  , 2000.  ]))"
      ]
     },
     "execution_count": 24,
     "metadata": {},
     "output_type": "execute_result"
    }
   ],
   "source": [
    "h_ttbar_mass.to_numpy()"
   ]
  },
  {
   "cell_type": "markdown",
   "id": "f2bccebd",
   "metadata": {},
   "source": [
    "### Here's a handy library called mplhep with a compact plotting syntax\n",
    "\n",
    "mplhep (matplotlib for high energy physics) documentation: <br>\n",
    "https://github.com/scikit-hep/mplhep/blob/master/examples/Examples.ipynb <br>\n",
    "https://github.com/andrzejnovak/2021-11-03-agc2021-mplhep/blob/master/mplhep_hist.ipynb <br>\n",
    "https://github.com/andrzejnovak/2021-11-03-agc2021-mplhep/blob/master/mplhep_hist_bonus.ipynb"
   ]
  },
  {
   "cell_type": "code",
   "execution_count": 25,
   "id": "09b0d8b1",
   "metadata": {},
   "outputs": [
    {
     "data": {
      "text/plain": [
       "Text(0.5, 0, 'ttbar_mass (GeV)')"
      ]
     },
     "execution_count": 25,
     "metadata": {},
     "output_type": "execute_result"
    },
    {
     "data": {
      "image/png": "[encoded data removed]",
      "text/plain": [
       "<Figure size 432x288 with 1 Axes>"
      ]
     },
     "metadata": {
      "needs_background": "light"
     },
     "output_type": "display_data"
    }
   ],
   "source": [
    "#h_ttbar_mass.axes[0].label = 'lep_pt'\n",
    "plot_ttbarr_mass = h_ttbar_mass.to_hist().plot1d(histtype='fill', color='b')\n",
    "plt.xlabel('ttbar_mass (GeV)')"
   ]
  },
  {
   "cell_type": "code",
   "execution_count": 26,
   "id": "2be673cb",
   "metadata": {},
   "outputs": [
    {
     "data": {
      "text/plain": [
       "Text(0.5, 0, 'TTBar Mass (GeV)')"
      ]
     },
     "execution_count": 26,
     "metadata": {},
     "output_type": "execute_result"
    },
    {
     "data": {
      "image/png": "[encoded data removed]",
      "text/plain": [
       "<Figure size 864x432 with 1 Axes>"
      ]
     },
     "metadata": {
      "needs_background": "light"
     },
     "output_type": "display_data"
    }
   ],
   "source": [
    "fig, ax = plt.subplots(figsize=(12, 6))\n",
    "\n",
    "plt.hist(tt.M, np.linspace(300, 2000, 33));\n",
    "plt.title(\"Example 1: TTBar Mass\", fontsize=25)\n",
    "plt.yticks(np.linspace(0, 250, 6), fontsize=22)\n",
    "plt.xticks(np.linspace(250, 2000, 8), fontsize=22)\n",
    "plt.xlabel('TTBar Mass (GeV)', fontsize=25)"
   ]
  },
  {
   "cell_type": "code",
   "execution_count": 27,
   "id": "d1124c59",
   "metadata": {},
   "outputs": [
    {
     "data": {
      "text/plain": [
       "Text(0.5, 0, 'TTBar Mass (GeV)')"
      ]
     },
     "execution_count": 27,
     "metadata": {},
     "output_type": "execute_result"
    },
    {
     "data": {
      "image/png": "[encoded data removed]",
      "text/plain": [
       "<Figure size 864x432 with 1 Axes>"
      ]
     },
     "metadata": {
      "needs_background": "light"
     },
     "output_type": "display_data"
    }
   ],
   "source": [
    "fig, ax = plt.subplots(figsize=(12, 6))\n",
    "\n",
    "plt.hist(tt.M, h_ttbar_mass.axes[0].edges());\n",
    "plt.title(\"Example 2: TTBar Mass with Variable Binning\", fontsize=15)\n",
    "plt.xlabel('TTBar Mass (GeV)', fontsize=15)"
   ]
  },
  {
   "cell_type": "markdown",
   "id": "7b943881",
   "metadata": {},
   "source": [
    "## Exercise: Fit both TTBar Mass plots (different binning) with scipy fitting module\n",
    "\n",
    "Fit the even binning one in the entire x-range. Fit the variable bining one with two separate ranges. <br>\n",
    "Question: Did the center of the peak change?\n",
    "\n",
    "Tutorial: https://hsf-training.github.io/hsf-training-uproot-webpage/07-fitting/index.html"
   ]
  },
  {
   "cell_type": "markdown",
   "id": "d0f802e6",
   "metadata": {},
   "source": [
    "### Scipy Fit Test"
   ]
  },
  {
   "cell_type": "code",
   "execution_count": 22,
   "id": "600b39ec",
   "metadata": {},
   "outputs": [
    {
     "data": {
      "text/html": [
       "<html>\n",
       "<div style=\"display:flex; align-items:center;\">\n",
       "<div style=\"width:290px;\">\n",
       "<svg xmlns=\"http://www.w3.org/2000/svg\" viewBox=\"-10 -105 270 120\">\n",
       "<line x1=\"-5\" y1=\"0\" x2=\"255\" y2=\"0\" style=\"fill:none;stroke-width:2;stroke:currentColor\"/>\n",
       "<text text-anchor=\"middle\" x=\"0\" y=\"15\" style=\"fill:currentColor;\">\n",
       "-10\n",
       "</text>\n",
       "<text text-anchor=\"middle\" x=\"250\" y=\"15\" style=\"fill:currentColor;\">\n",
       "10\n",
       "</text>\n",
       "<text text-anchor=\"middle\" x=\"125.0\" y=\"15\" style=\"fill:currentColor;\">\n",
       "x\n",
       "</text>\n",
       "<polyline points=\"  0,0   0,-0.147 2.5,-0.147 2.5,-0.173   5,-0.173   5,-0.214 7.5,-0.214 7.5,-0.26  10,-0.26  10,-0.372 12.5,-0.372 12.5,-0.417  15,-0.417  15,-0.53 17.5,-0.53 17.5,-0.726  20,-0.726  20,-0.824 22.5,-0.824 22.5,-0.993  25,-0.993  25,-1.23 27.5,-1.23 27.5,-1.53  30,-1.53  30,-1.87 32.5,-1.87 32.5,-2.21  35,-2.21  35,-2.58 37.5,-2.58 37.5,-3.26  40,-3.26  40,-3.72 42.5,-3.72 42.5,-4.57  45,-4.57  45,-5.3 47.5,-5.3 47.5,-5.94  50,-5.94  50,-6.97 52.5,-6.97 52.5,-8.33  55,-8.33  55,-9.25 57.5,-9.25 57.5,-11.5  60,-11.5  60,-12.1 62.5,-12.1 62.5,-14.5  65,-14.5  65,-16.4 67.5,-16.4 67.5,-18.2  70,-18.2  70,-20.7 72.5,-20.7 72.5,-23.9  75,-23.9  75,-26.2 77.5,-26.2 77.5,-29.3  80,-29.3  80,-32.4 82.5,-32.4 82.5,-36.3  85,-36.3  85,-38.8 87.5,-38.8 87.5,-42.3  90,-42.3  90,-46.8 92.5,-46.8 92.5,-50.7  95,-50.7  95,-54.8 97.5,-54.8 97.5,-58.9 100,-58.9 100,-62.7 102.5,-62.7 102.5,-67.3 105,-67.3 105,-70.4 107.5,-70.4 107.5,-75.6 110,-75.6 110,-78.6 112.5,-78.6 112.5,-81.2 115,-81.2 115,-85.5 117.5,-85.5 117.5,-87.9 120,-87.9 120,-90.5 122.5,-90.5 122.5,-93.2 125,-93.2 125,-94.5 127.5,-94.5 127.5,-97.6 130,-97.6 130,-98.8 132.5,-98.8 132.5,-99 135,-99 135,-100 137.5,-100 137.5,-100 140,-100 140,-99.8 142.5,-99.8 142.5,-98.1 145,-98.1 145,-97.6 147.5,-97.6 147.5,-95.9 150,-95.9 150,-94.4 152.5,-94.4 152.5,-91.7 155,-91.7 155,-88.9 157.5,-88.9 157.5,-84.6 160,-84.6 160,-81.4 162.5,-81.4 162.5,-78.4 165,-78.4 165,-74.3 167.5,-74.3 167.5,-70.6 170,-70.6 170,-66.8 172.5,-66.8 172.5,-62.4 175,-62.4 175,-58.5 177.5,-58.5 177.5,-55.3 180,-55.3 180,-50.8 182.5,-50.8 182.5,-46.2 185,-46.2 185,-43.8 187.5,-43.8 187.5,-39.4 190,-39.4 190,-35.7 192.5,-35.7 192.5,-32.9 195,-32.9 195,-29.2 197.5,-29.2 197.5,-26.3 200,-26.3 200,-23.7 202.5,-23.7 202.5,-21.2 205,-21.2 205,-18.5 207.5,-18.5 207.5,-16.8 210,-16.8 210,-14.7 212.5,-14.7 212.5,-12.7 215,-12.7 215,-11.2 217.5,-11.2 217.5,-9.66 220,-9.66 220,-7.91 222.5,-7.91 222.5,-7.1 225,-7.1 225,-6.11 227.5,-6.11 227.5,-5.02 230,-5.02 230,-4.33 232.5,-4.33 232.5,-3.5 235,-3.5 235,-3.36 237.5,-3.36 237.5,-2.49 240,-2.49 240,-2.25 242.5,-2.25 242.5,-1.76 245,-1.76 245,-1.41 247.5,-1.41 247.5,-1.21 250,-1.21 250,0\" style=\"fill:none; stroke:currentColor;\"/>\n",
       "</svg>\n",
       "</div>\n",
       "<div style=\"flex=grow:1;\">\n",
       "Regular(100, -10, 10, name='x')<br/>\n",
       "<hr style=\"margin-top:.2em; margin-bottom:.2em;\"/>\n",
       "Double() Σ=998603.0 <em>(1000000.0 with flow)</em>\n",
       "\n",
       "</div>\n",
       "</div>\n",
       "</html>"
      ],
      "text/plain": [
       "Hist(Regular(100, -10, 10, name='x'), storage=Double()) # Sum: 998603.0 (1000000.0 with flow)"
      ]
     },
     "execution_count": 22,
     "metadata": {},
     "output_type": "execute_result"
    }
   ],
   "source": [
    "h1 = hist.new.Reg(100, -10, 10, name=\"x\").Double()\n",
    "h1.fill(np.random.normal(1, 3, 1_000_000))"
   ]
  },
  {
   "cell_type": "code",
   "execution_count": 30,
   "id": "090a19c2",
   "metadata": {},
   "outputs": [],
   "source": [
    "x=np.linspace(-10, 10, 40)"
   ]
  },
  {
   "cell_type": "code",
   "execution_count": 23,
   "id": "fc9c3795",
   "metadata": {},
   "outputs": [],
   "source": [
    "def func(x, A, sigma, mu):\n",
    "    return A*np.exp(-((x - mu)/sigma)**2 / 2)"
   ]
  },
  {
   "cell_type": "code",
   "execution_count": 24,
   "id": "1954e7c1",
   "metadata": {},
   "outputs": [],
   "source": [
    "pars, errors = curve_fit(func, h1.axes[0].centers, h1.values())"
   ]
  },
  {
   "cell_type": "code",
   "execution_count": 35,
   "id": "c30fa348",
   "metadata": {},
   "outputs": [
    {
     "data": {
      "text/plain": [
       "array([-9.9, -9.7, -9.5, -9.3, -9.1, -8.9, -8.7, -8.5, -8.3, -8.1, -7.9,\n",
       "       -7.7, -7.5, -7.3, -7.1, -6.9, -6.7, -6.5, -6.3, -6.1, -5.9, -5.7,\n",
       "       -5.5, -5.3, -5.1, -4.9, -4.7, -4.5, -4.3, -4.1, -3.9, -3.7, -3.5,\n",
       "       -3.3, -3.1, -2.9, -2.7, -2.5, -2.3, -2.1, -1.9, -1.7, -1.5, -1.3,\n",
       "       -1.1, -0.9, -0.7, -0.5, -0.3, -0.1,  0.1,  0.3,  0.5,  0.7,  0.9,\n",
       "        1.1,  1.3,  1.5,  1.7,  1.9,  2.1,  2.3,  2.5,  2.7,  2.9,  3.1,\n",
       "        3.3,  3.5,  3.7,  3.9,  4.1,  4.3,  4.5,  4.7,  4.9,  5.1,  5.3,\n",
       "        5.5,  5.7,  5.9,  6.1,  6.3,  6.5,  6.7,  6.9,  7.1,  7.3,  7.5,\n",
       "        7.7,  7.9,  8.1,  8.3,  8.5,  8.7,  8.9,  9.1,  9.3,  9.5,  9.7,\n",
       "        9.9])"
      ]
     },
     "execution_count": 35,
     "metadata": {},
     "output_type": "execute_result"
    }
   ],
   "source": [
    "h1.axes[0].centers"
   ]
  },
  {
   "cell_type": "code",
   "execution_count": 36,
   "id": "e118b527",
   "metadata": {},
   "outputs": [
    {
     "data": {
      "text/plain": [
       "array([   39.,    46.,    57.,    69.,    99.,   111.,   141.,   193.,\n",
       "         219.,   264.,   328.,   408.,   498.,   587.,   686.,   867.,\n",
       "         988.,  1216.,  1408.,  1578.,  1854.,  2214.,  2458.,  3055.,\n",
       "        3207.,  3864.,  4363.,  4839.,  5508.,  6350.,  6961.,  7792.,\n",
       "        8613.,  9640., 10319., 11234., 12443., 13489., 14568., 15649.,\n",
       "       16657., 17893., 18705., 20093., 20910., 21588., 22735., 23369.,\n",
       "       24061., 24784., 25136., 25952., 26262., 26319., 26578., 26587.,\n",
       "       26545., 26082., 25941., 25502., 25109., 24389., 23646., 22500.,\n",
       "       21650., 20844., 19762., 18766., 17755., 16602., 15548., 14702.,\n",
       "       13517., 12275., 11636., 10470.,  9502.,  8734.,  7761.,  6985.,\n",
       "        6295.,  5647.,  4931.,  4471.,  3920.,  3374.,  2973.,  2569.,\n",
       "        2104.,  1887.,  1624.,  1334.,  1150.,   930.,   893.,   661.,\n",
       "         598.,   469.,   376.,   323.])"
      ]
     },
     "execution_count": 36,
     "metadata": {},
     "output_type": "execute_result"
    }
   ],
   "source": [
    "h1.values()"
   ]
  },
  {
   "cell_type": "code",
   "execution_count": 29,
   "id": "991ee1d6",
   "metadata": {},
   "outputs": [
    {
     "data": {
      "image/png": "[encoded data removed]",
      "text/plain": [
       "<Figure size 864x432 with 1 Axes>"
      ]
     },
     "metadata": {
      "needs_background": "light"
     },
     "output_type": "display_data"
    }
   ],
   "source": [
    "fig, axs = plt.subplots(1, 1, figsize=(12,6))\n",
    "\n",
    "x=np.linspace(-10, 10, 40)\n",
    "y=func(x, pars[0], pars[1], pars[2])\n",
    "hep.histplot(h1);\n",
    "plt.plot(x, y);"
   ]
  },
  {
   "cell_type": "code",
   "execution_count": null,
   "id": "ed95779a",
   "metadata": {},
   "outputs": [],
   "source": []
  }
 ],
 "metadata": {
  "kernelspec": {
   "display_name": "Python 3.9 (Default)",
   "language": "python",
   "name": "python3"
  },
  "language_info": {
   "codemirror_mode": {
    "name": "ipython",
    "version": 3
   },
   "file_extension": ".py",
   "mimetype": "text/x-python",
   "name": "python",
   "nbconvert_exporter": "python",
   "pygments_lexer": "ipython3",
   "version": "3.9.7"
  }
 },
 "nbformat": 4,
 "nbformat_minor": 5
}
